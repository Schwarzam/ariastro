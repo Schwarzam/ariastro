{
 "cells": [
  {
   "cell_type": "code",
   "execution_count": 1,
   "metadata": {},
   "outputs": [],
   "source": [
    "import os\n",
    "import splusdata"
   ]
  },
  {
   "cell_type": "code",
   "execution_count": 2,
   "metadata": {},
   "outputs": [
    {
     "data": {
      "text/plain": [
       "26880"
      ]
     },
     "execution_count": 2,
     "metadata": {},
     "output_type": "execute_result"
    }
   ],
   "source": [
    "os.system('./galfitm-1.4.4-osx galfit.feedme.template')"
   ]
  },
  {
   "cell_type": "code",
   "execution_count": 3,
   "metadata": {},
   "outputs": [
    {
     "name": "stdout",
     "output_type": "stream",
     "text": [
      "You have access to internal data\n"
     ]
    }
   ],
   "source": [
    "conn = splusdata.connect()"
   ]
  },
  {
   "cell_type": "code",
   "execution_count": 4,
   "metadata": {},
   "outputs": [],
   "source": [
    "for band in ['R', 'I', 'G']:\n",
    "    conn.get_cut(69.38, -42.06, 200, band, filepath=f'{band}.fits')"
   ]
  },
  {
   "cell_type": "code",
   "execution_count": 1,
   "metadata": {},
   "outputs": [],
   "source": [
    "def make_psf(fwhm, beta, radius, outfile):\n",
    "    import numpy as np\n",
    "    from astropy.io import fits as pf\n",
    "    fwhm = fwhm/0.5\n",
    "    #beta = beta/0.5 \n",
    "    alpha = fwhm / (2 * np.sqrt(np.power(2., 1/beta) - 1.))\n",
    "    r = np.linspace(-radius, radius, 2 * radius + 1)\n",
    "    print(r)\n",
    "    X, Y = np.meshgrid(r, r)\n",
    "    R = np.sqrt(X**2 + Y**2)\n",
    "    I = (beta - 1.) / (np.pi * alpha**2) * \\\n",
    "        np.power(1. + np.power(R / alpha, 2), -beta)\n",
    "    hdu = fits.PrimaryHDU(I)\n",
    "    hdulist = pf.HDUList([hdu])\n",
    "    hdulist.writeto(outfile, clobber=True)\n",
    "    return"
   ]
  },
  {
   "cell_type": "code",
   "execution_count": null,
   "metadata": {},
   "outputs": [],
   "source": []
  }
 ],
 "metadata": {
  "kernelspec": {
   "display_name": "Python 3",
   "language": "python",
   "name": "python3"
  },
  "language_info": {
   "codemirror_mode": {
    "name": "ipython",
    "version": 3
   },
   "file_extension": ".py",
   "mimetype": "text/x-python",
   "name": "python",
   "nbconvert_exporter": "python",
   "pygments_lexer": "ipython3",
   "version": "3.9.12"
  },
  "vscode": {
   "interpreter": {
    "hash": "e333ff4aa18f9a0fa07511eb65a6239e0d8f0b6236173c323db3f36e6a940470"
   }
  }
 },
 "nbformat": 4,
 "nbformat_minor": 2
}
