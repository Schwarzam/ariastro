{
 "cells": [
  {
   "cell_type": "code",
   "execution_count": 1,
   "metadata": {},
   "outputs": [],
   "source": [
    "import os\n",
    "import splusdata"
   ]
  },
  {
   "cell_type": "code",
   "execution_count": 2,
   "metadata": {},
   "outputs": [
    {
     "data": {
      "text/plain": [
       "26880"
      ]
     },
     "execution_count": 2,
     "metadata": {},
     "output_type": "execute_result"
    }
   ],
   "source": [
    "os.system('./galfitm-1.4.4-osx galfit.feedme.template')"
   ]
  },
  {
   "cell_type": "code",
   "execution_count": 3,
   "metadata": {},
   "outputs": [
    {
     "name": "stdout",
     "output_type": "stream",
     "text": [
      "You have access to internal data\n"
     ]
    }
   ],
   "source": [
    "conn = splusdata.connect()"
   ]
  },
  {
   "cell_type": "code",
   "execution_count": 4,
   "metadata": {},
   "outputs": [],
   "source": [
    "for band in ['R', 'I', 'G']:\n",
    "    conn.get_cut(69.38, -42.06, 200, band, filepath=f'{band}.fits')"
   ]
  },
  {
   "cell_type": "code",
   "execution_count": 1,
   "metadata": {},
   "outputs": [],
   "source": [
    "def make_psf(fwhm, beta, radius, outfile):\n",
    "    import numpy as np\n",
    "    from astropy.io import fits as pf\n",
    "    fwhm = fwhm/0.5\n",
    "    #beta = beta/0.5 \n",
    "    alpha = fwhm / (2 * np.sqrt(np.power(2., 1/beta) - 1.))\n",
    "    r = np.linspace(-radius, radius, 2 * radius + 1)\n",
    "    print(r)\n",
    "    X, Y = np.meshgrid(r, r)\n",
    "    R = np.sqrt(X**2 + Y**2)\n",
    "    I = (beta - 1.) / (np.pi * alpha**2) * \\\n",
    "        np.power(1. + np.power(R / alpha, 2), -beta)\n",
    "    hdu = fits.PrimaryHDU(I)\n",
    "    hdulist = pf.HDUList([hdu])\n",
    "    hdulist.writeto(outfile, clobber=True)\n",
    "    return"
   ]
  },
  {
   "cell_type": "code",
   "execution_count": 2,
   "metadata": {},
   "outputs": [],
   "source": [
    "from astropy.io import fits"
   ]
  },
  {
   "cell_type": "code",
   "execution_count": 11,
   "metadata": {},
   "outputs": [],
   "source": [
    "unpack = fits.open('G.fits')\n",
    "pack = fits.open('G.fits.fz')"
   ]
  },
  {
   "cell_type": "code",
   "execution_count": 4,
   "metadata": {},
   "outputs": [],
   "source": [
    "import astropy"
   ]
  },
  {
   "cell_type": "code",
   "execution_count": 29,
   "metadata": {},
   "outputs": [],
   "source": []
  },
  {
   "cell_type": "code",
   "execution_count": 49,
   "metadata": {},
   "outputs": [],
   "source": [
    "import astropy\n",
    "from astropy.io import fits\n",
    "\n",
    "\n",
    "def unpack_file(filename, output=None, delete_compressed = False):\n",
    "    import os\n",
    "    \"\"\"\n",
    "    Funpack (uncompress) .fz file\n",
    "    \"\"\"\n",
    "    if not output:\n",
    "        output = filename.replace('.fz', '')\n",
    "        \n",
    "    if delete_compressed:\n",
    "        os.remove(filename)\n",
    "    \n",
    "    packed = fits.open(filename)\n",
    "    unpacked = astropy.io.fits.hdu.image.PrimaryHDU(data = packed[1].data, header = packed[1].header)\n",
    "    astropy.io.fits.hdu.hdulist.HDUList(hdus=[unpacked]).writeto(output, overwrite=True)"
   ]
  },
  {
   "cell_type": "code",
   "execution_count": 50,
   "metadata": {},
   "outputs": [],
   "source": [
    "unpack_file('G.fits.fz')"
   ]
  },
  {
   "cell_type": "code",
   "execution_count": 73,
   "metadata": {},
   "outputs": [],
   "source": [
    "import numpy as np\n",
    "from astropy.io import fits as pf\n",
    "\n",
    "def make_psf(fwhm, beta, outfile, radius = 10):\n",
    "    \n",
    "    fwhm = fwhm/0.5\n",
    "    #beta = beta/0.5 \n",
    "    alpha = fwhm / (2 * np.sqrt(np.power(2., 1/beta) - 1.))\n",
    "    r = np.linspace(-radius, radius, 2 * radius + 1)\n",
    "    X, Y = np.meshgrid(r, r)\n",
    "    R = np.sqrt(X**2 + Y**2)\n",
    "    I = (beta - 1.) / (np.pi * alpha**2) * \\\n",
    "        np.power(1. + np.power(R / alpha, 2), -beta)\n",
    "    \n",
    "    #hdu = fits.PrimaryHDU(I)\n",
    "    #hdulist = pf.HDUList([hdu])\n",
    "    #hdulist.writeto(outfile, clobber=True)\n",
    "    return I"
   ]
  },
  {
   "cell_type": "code",
   "execution_count": 79,
   "metadata": {},
   "outputs": [],
   "source": [
    "def get_psf_data(filename):\n",
    "    \"\"\"Returns x0,y0 from image header\"\"\"\n",
    "    hdulist = fits.open(filename)\n",
    "    hdu = hdulist[0]\n",
    "    \n",
    "    ret = (None, None)\n",
    "    for i in hdu.header:\n",
    "        if 'FWHMMEAN' in i:\n",
    "            ret[0] = hdu.header[i]\n",
    "        \n",
    "    \n",
    "    ret = (hdu.header[\"HIERARCH OAJ PRO FWHMMEAN\"],hdu.header[\"HIERARCH OAJ PRO FWHMBETA\"])\n",
    "    hdulist.close()\n",
    "    return ret"
   ]
  },
  {
   "cell_type": "code",
   "execution_count": 80,
   "metadata": {},
   "outputs": [
    {
     "name": "stdout",
     "output_type": "stream",
     "text": [
      "OAJ PRO FWHMMEAN\n"
     ]
    },
    {
     "data": {
      "text/plain": [
       "(1.621482455730438, 1.834800004959106)"
      ]
     },
     "execution_count": 80,
     "metadata": {},
     "output_type": "execute_result"
    }
   ],
   "source": [
    "get_psf_data('G.fits')"
   ]
  },
  {
   "cell_type": "code",
   "execution_count": 76,
   "metadata": {},
   "outputs": [],
   "source": [
    "I = make_psf(1.621482, 1.834800, outfile=None)"
   ]
  },
  {
   "cell_type": "code",
   "execution_count": 77,
   "metadata": {},
   "outputs": [],
   "source": [
    "import matplotlib.pyplot as plt"
   ]
  },
  {
   "cell_type": "code",
   "execution_count": 78,
   "metadata": {},
   "outputs": [
    {
     "data": {
      "text/plain": [
       "<matplotlib.image.AxesImage at 0x134e1d3d0>"
      ]
     },
     "execution_count": 78,
     "metadata": {},
     "output_type": "execute_result"
    },
    {
     "data": {
      "image/png": "[encoded data removed]",
      "text/plain": [
       "<Figure size 432x288 with 1 Axes>"
      ]
     },
     "metadata": {
      "needs_background": "light"
     },
     "output_type": "display_data"
    }
   ],
   "source": [
    "plt.imshow(I)"
   ]
  },
  {
   "cell_type": "code",
   "execution_count": null,
   "metadata": {},
   "outputs": [],
   "source": []
  }
 ],
 "metadata": {
  "kernelspec": {
   "display_name": "Python 3",
   "language": "python",
   "name": "python3"
  },
  "language_info": {
   "codemirror_mode": {
    "name": "ipython",
    "version": 3
   },
   "file_extension": ".py",
   "mimetype": "text/x-python",
   "name": "python",
   "nbconvert_exporter": "python",
   "pygments_lexer": "ipython3",
   "version": "3.9.12"
  },
  "vscode": {
   "interpreter": {
    "hash": "e333ff4aa18f9a0fa07511eb65a6239e0d8f0b6236173c323db3f36e6a940470"
   }
  }
 },
 "nbformat": 4,
 "nbformat_minor": 2
}
